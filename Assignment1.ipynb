{
  "nbformat": 4,
  "nbformat_minor": 0,
  "metadata": {
    "colab": {
      "provenance": [],
      "authorship_tag": "ABX9TyP1XOv9Z8OCsJLzcqR6mSEJ",
      "include_colab_link": true
    },
    "kernelspec": {
      "name": "python3",
      "display_name": "Python 3"
    },
    "language_info": {
      "name": "python"
    }
  },
  "cells": [
    {
      "cell_type": "markdown",
      "metadata": {
        "id": "view-in-github",
        "colab_type": "text"
      },
      "source": [
        "<a href=\"https://colab.research.google.com/github/Nidhi-S-Vas/Assignment-case_studies/blob/main/Assignment1.ipynb\" target=\"_parent\"><img src=\"https://colab.research.google.com/assets/colab-badge.svg\" alt=\"Open In Colab\"/></a>"
      ]
    },
    {
      "cell_type": "markdown",
      "source": [
        "##### 1 ATM CALCULATOR"
      ],
      "metadata": {
        "id": "pKvZ-cssQ9mA"
      }
    },
    {
      "cell_type": "code",
      "execution_count": null,
      "metadata": {
        "colab": {
          "base_uri": "https://localhost:8080/"
        },
        "id": "yrehC0AyQ3Xl",
        "outputId": "19d97031-88e2-4a12-de6c-f0e0e058785e"
      },
      "outputs": [
        {
          "output_type": "stream",
          "name": "stdout",
          "text": [
            "Enter the Balance amount5000\n",
            "Enter the Withdrawal amount6000\n",
            "Insufficient balance, Available Balance: 5000\n"
          ]
        }
      ],
      "source": [
        "def ATM_Calculator (Balance,Withdrawal): # Defining the Function\n",
        "  if Balance >= Withdrawal:\n",
        "    Balance = Balance - Withdrawal\n",
        "    print(f\"Transaction successful. Remaining balance: {Balance}\")\n",
        "\n",
        "  else:\n",
        "    print(f\"Insufficient balance, Available Balance: {Balance}\")\n",
        "\n",
        "\n",
        "\n",
        "Balance=int(input(\"Enter the Balance amount\")) # inputing the balance amount\n",
        "Withdrawal=int(input(\"Enter the Withdrawal amount\")) # inputing the withdrawal amout\n",
        "Amount=ATM_Calculator (Balance,Withdrawal)\n",
        "\n"
      ]
    },
    {
      "cell_type": "markdown",
      "source": [
        "#### 2. Electricity Bill Generator"
      ],
      "metadata": {
        "id": "1C3onwsCV0ag"
      }
    },
    {
      "cell_type": "code",
      "source": [
        "def Bill(Unit):\n",
        "  if Unit >200: # if unit more than 200\n",
        "    Amount= 100*5+100*7+(Unit-200)*10\n",
        "    print(f\"Amount to be paid: {Amount}\")\n",
        "  elif Unit >100: #if unit  from 101 t0 199\n",
        "    Amount=100*5+(Unit-100)*7\n",
        "    print(f\"Amount to be paid: {Amount}\")\n",
        "  else: #if unit is 1 to 100\n",
        "    Amount=Unit*5\n",
        "    print(f\"Amount to be paid: {Amount}\")\n",
        "\n",
        "\n",
        "\n",
        "Unit=int(input(\"Enter the units consumed\"))\n",
        "Amount=Bill(Unit)\n"
      ],
      "metadata": {
        "colab": {
          "base_uri": "https://localhost:8080/"
        },
        "id": "CgwK_Z_zUS1M",
        "outputId": "89ab7bf6-d218-4fa9-de51-7cbca19b97bc"
      },
      "execution_count": null,
      "outputs": [
        {
          "output_type": "stream",
          "name": "stdout",
          "text": [
            "Enter the units consumed199\n",
            "Amount to be paid: 1193\n"
          ]
        }
      ]
    },
    {
      "cell_type": "markdown",
      "source": [
        "#### 3. Temperature Converter"
      ],
      "metadata": {
        "id": "32yhED2xJgfS"
      }
    },
    {
      "cell_type": "code",
      "source": [
        "def Temperature(Temp,Unit): # defining the function\n",
        "  if Unit==\"C\"or Unit== \"Celsius\": # check if the unit is Celsius if it is converting to Fahrenheit\n",
        "    F=(Temp*9/5)+32\n",
        "    print(f\"Temperature in Fahrenheit: {F}F \")\n",
        "  elif Unit==\"F\" or Unit==\"Fahrenheit\": # check if the unit is Fahrenheit if it is converting to Celsius\n",
        "    C=(Temp-32)*5/9\n",
        "    print(f\"Temperature in Celsius: {C} C\")\n",
        "\n",
        "\n",
        "Temp=float(input(\"Enter the Temperature\"))\n",
        "Unit=input(\"Enter the Unit\")\n",
        "Temperature(Temp,Unit)\n",
        "\n"
      ],
      "metadata": {
        "colab": {
          "base_uri": "https://localhost:8080/"
        },
        "id": "JE6UmQGwJfPQ",
        "outputId": "3d3758d2-c906-4dad-820f-149dbd8f89dd"
      },
      "execution_count": null,
      "outputs": [
        {
          "output_type": "stream",
          "name": "stdout",
          "text": [
            "Enter the Temperature-42\n",
            "Enter the UnitF\n",
            "Temperature in Celsius: -41.111111111111114 C\n"
          ]
        }
      ]
    },
    {
      "cell_type": "markdown",
      "source": [
        "#### 4.Mobile Recharge"
      ],
      "metadata": {
        "id": "S9Y50f4_Wou9"
      }
    },
    {
      "cell_type": "code",
      "source": [
        "from datetime import datetime,date  #importing datetime to convert into date objects\n",
        "\n",
        "\n",
        "\n",
        "def Mobile_Recharge(Rechargestr,Today_date):\n",
        "  Recharge_date=datetime.strptime(Rechargestr,'%d-%m-%Y').date() # convert to date object\n",
        "\n",
        " # checking whether the plan valid or not\n",
        "  if (Today_date-Recharge_date).days<=28:\n",
        "    print(\"Plan Valid\")\n",
        "  else:\n",
        "    print(\"Plan Expired. Recharge again\")\n",
        "\n",
        "\n",
        "Rechargestr=input(\"Enter the Recharge Date\")\n",
        "Today_date=date.today() #automatically gets today's date\n",
        "Mobile_Recharge(Rechargestr,Today_date) # calling the function\n",
        "\n",
        "\n",
        "\n"
      ],
      "metadata": {
        "id": "n8EmcaBLWaq-",
        "colab": {
          "base_uri": "https://localhost:8080/"
        },
        "outputId": "10b64a92-c533-4871-956c-19ad359a5ff5"
      },
      "execution_count": null,
      "outputs": [
        {
          "output_type": "stream",
          "name": "stdout",
          "text": [
            "Enter the Recharge Date02-10-2024\n",
            "Plan Expired. Recharge again\n"
          ]
        }
      ]
    },
    {
      "cell_type": "code",
      "source": [
        "from datetime import datetime,date  #importing datetime to convert into date objects\n",
        "\n",
        "\n",
        "\n",
        "def Mobile_Recharge2(Rechargestr,Todaystr):\n",
        "  Recharge_date=datetime.strptime(Rechargestr,'%d-%m-%Y').date() # convert to date object\n",
        "  Today_date=datetime.strptime(Todaystr,'%d-%m-%Y').date()\n",
        "\n",
        "  if (Today_date-Recharge_date).days<=28:  # checking whether the plan valid or not\n",
        "    print(\"Plan Valid\")\n",
        "  else:\n",
        "    print(\"Plan Expired. Recharge again\")\n",
        "\n",
        "# inputing the date as string\n",
        "\n",
        "Rechargestr=input(\"Enter the Recharge Date\")\n",
        "Today_date=input(\"Enter the Today Date\")\n",
        "Mobile_Recharge2(Rechargestr,Today_date)  # calling the funtion\n"
      ],
      "metadata": {
        "colab": {
          "base_uri": "https://localhost:8080/"
        },
        "id": "BeHjLtZoS2gx",
        "outputId": "41c87dfa-b264-4b91-f718-599b25b28bb0"
      },
      "execution_count": null,
      "outputs": [
        {
          "output_type": "stream",
          "name": "stdout",
          "text": [
            "Enter the Recharge Date02-10-2024\n",
            "Enter the Today Date03-10-2024\n",
            "Plan Valid\n"
          ]
        }
      ]
    },
    {
      "cell_type": "markdown",
      "source": [
        "#### 5.Bus Seat Reservation System:\n"
      ],
      "metadata": {
        "id": "ANR7F5AGTZno"
      }
    },
    {
      "cell_type": "markdown",
      "source": [],
      "metadata": {
        "id": "K9vqs-5QjTR1"
      }
    },
    {
      "cell_type": "code",
      "source": [
        "Passenger=[\"Alice\",\"Bob\",\"Charlie\",\"David\"] # delcaring thelist\n",
        "\n",
        "print(Passenger) # printing the given list\n",
        "cancel_name=input(\"Enter the passenger to be cancelled:\") # enter the name to be cancelled\n",
        "\n",
        "# condition to check whether the name in the list or not if yes remove\n",
        "\n",
        "if cancel_name in Passenger:\n",
        "  Passenger.remove(cancel_name)\n",
        "\n",
        "else:\n",
        "  print(\"No such Passenger\")\n",
        "\n",
        "# entering the new name and postion to which the new name to be inserted\n",
        "\n",
        "new_Passenger=input(\"Enter the new passenger : \")\n",
        "Position=int(input(\"Enter the position to be inserted :\"))\n",
        "Passenger.insert(Position,new_Passenger)\n",
        "\n",
        "# printing the updated list\n",
        "\n",
        "print(\"Updated Passenger list:\",Passenger)"
      ],
      "metadata": {
        "colab": {
          "base_uri": "https://localhost:8080/"
        },
        "id": "RQwZK2LgU6Nd",
        "outputId": "82f4e721-6ee3-4eae-ed74-19e883d153eb"
      },
      "execution_count": null,
      "outputs": [
        {
          "output_type": "stream",
          "name": "stdout",
          "text": [
            "['Alice', 'Bob', 'Charlie', 'David']\n",
            "Enter the passenger to be cancelled:Alice\n",
            "Enter the new passenger : Aleena\n",
            "Enter the position to be inserted :2\n",
            "Updated Passenger list: ['Bob', 'Charlie', 'Aleena', 'David']\n"
          ]
        }
      ]
    },
    {
      "cell_type": "markdown",
      "source": [
        "###6.Sum of even numbers\n"
      ],
      "metadata": {
        "id": "s72_jUZMk2BD"
      }
    },
    {
      "cell_type": "code",
      "source": [
        "Number=int(input(\"Enter the number\")) # inputing the number\n",
        "Sum=0 # declaring a variable to store the sum\n",
        "\n",
        "for i in range(1,Number+1): # looping from 1 to the last number\n",
        "  if i%2==0: # checking wheather even\n",
        "    Sum += i # if even adding the number and storing it to the variable\n",
        "\n",
        "\n",
        "print(\"Sum of even numbers :\", Sum)# printing the sum"
      ],
      "metadata": {
        "colab": {
          "base_uri": "https://localhost:8080/"
        },
        "id": "lUIbmOUlnI6j",
        "outputId": "6d247f3c-5a26-48a0-b145-ee79c1ccf48b"
      },
      "execution_count": null,
      "outputs": [
        {
          "output_type": "stream",
          "name": "stdout",
          "text": [
            "Enter the number4\n",
            "Sum of even numbers : 6\n"
          ]
        }
      ]
    },
    {
      "cell_type": "markdown",
      "source": [
        "### 7  Dictionary – Student Marks Summary"
      ],
      "metadata": {
        "id": "z-0y7Mduq2QB"
      }
    },
    {
      "cell_type": "code",
      "source": [
        "#  Create an empty dictionary\n",
        "students = {}\n",
        "\n",
        "# Take input for 3 students\n",
        "for i in range(3):\n",
        "    name = input(\"Enter name: \")\n",
        "    marks = float(input(\"Enter marks: \"))\n",
        "    students[name] = marks  # storing  in dictionary\n",
        "\n",
        "#  Calculate average marks\n",
        "total_marks = sum(students.values())  # sum of all marks\n",
        "average = total_marks / len(students)  # divide by number of students\n",
        "\n",
        "#  Print the average\n",
        "print(\"Average Marks:\", average)\n"
      ],
      "metadata": {
        "colab": {
          "base_uri": "https://localhost:8080/"
        },
        "id": "49PyktbQq7Lv",
        "outputId": "c4e27e03-d8b1-499a-e054-a26963eadd0c"
      },
      "execution_count": null,
      "outputs": [
        {
          "output_type": "stream",
          "name": "stdout",
          "text": [
            "Enter name: nidhi\n",
            "Enter marks: 44\n",
            "Enter name: sneha\n",
            "Enter marks: 54\n",
            "Enter name: neha\n",
            "Enter marks: 44\n",
            "Average Marks: 47.333333333333336\n"
          ]
        }
      ]
    },
    {
      "cell_type": "markdown",
      "source": [
        "####8. Dictionary – Word Frequency"
      ],
      "metadata": {
        "id": "5_Xbm4r3wYq9"
      }
    },
    {
      "cell_type": "code",
      "source": [
        "sentence = input(\"Enter a sentence: \") # inputing the sentence\n",
        "words = sentence.split() # spliting the sentence\n",
        "\n",
        "frequency = {} # create an empty dictionary\n",
        "\n",
        "\n",
        "# for looping to count the frequency of each words\n",
        "for word in words:\n",
        "    if word in frequency:  # if the word in the frequency the increase the count\n",
        "        frequency[word] += 1\n",
        "    else:\n",
        "        frequency[word] = 1 # else then give it 1\n",
        "\n",
        "for word, count in frequency.items(): # printing the dictionary\n",
        "    print(f\"{word}: {count}\")\n"
      ],
      "metadata": {
        "colab": {
          "base_uri": "https://localhost:8080/"
        },
        "id": "JRNAyRvcwbrr",
        "outputId": "2f4d7d9f-4741-4926-a2bb-43da9cd65087"
      },
      "execution_count": null,
      "outputs": [
        {
          "output_type": "stream",
          "name": "stdout",
          "text": [
            "Enter a sentence: hello hello world\n",
            "hello: 2\n",
            "world: 1\n"
          ]
        }
      ]
    },
    {
      "cell_type": "markdown",
      "source": [
        "####8. Functions – Check Prime"
      ],
      "metadata": {
        "id": "Z0o9-oLxyHUW"
      }
    },
    {
      "cell_type": "code",
      "source": [
        "def is_prime(num): # define the function\n",
        "\n",
        "  if num <=1:\n",
        "    print(f\"{num} is not a prime number\") # if number is 1 or less than 1 then not prime\n",
        "    return\n",
        "  for i in range(2,num):\n",
        "    if num%i==0: # if the number is divisible by any  number other than(1 and that number) it is not prime\n",
        "      print(f\"{num} is not a prime number\")\n",
        "      return\n",
        "  print(f\"{num} is a prime number\")\n",
        "\n",
        "\n",
        "number=int(input(\"Enter the number\"))\n",
        "is_prime(number)\n"
      ],
      "metadata": {
        "colab": {
          "base_uri": "https://localhost:8080/"
        },
        "id": "fBSwwgosyNOr",
        "outputId": "51d3db03-b935-4244-8cfb-f7a8d1c483af"
      },
      "execution_count": null,
      "outputs": [
        {
          "output_type": "stream",
          "name": "stdout",
          "text": [
            "Enter the number1009\n",
            "1009 is a prime number\n"
          ]
        }
      ]
    },
    {
      "cell_type": "markdown",
      "source": [
        "#### 9. Vowel Counter"
      ],
      "metadata": {
        "id": "Zx5Z14Xn3XIy"
      }
    },
    {
      "cell_type": "code",
      "source": [
        "def count_vowels(text):\n",
        "    vowels = \"aeiouAEIOU\" # defining the vowels in upper and lower case as string\n",
        "    count = 0 # initialize a variable as zero\n",
        "    for char in text: # Looping througheach word in the string\n",
        "        if char in vowels:\n",
        "            count += 1 # if it is vowel increment by 1\n",
        "    return count\n",
        "\n",
        "\n",
        "word = input(\"Enter a word: \") # input the string\n",
        "print(f\"Number of vowels in '{word}':\", count_vowels(word)) # print the number of vowels\n"
      ],
      "metadata": {
        "colab": {
          "base_uri": "https://localhost:8080/"
        },
        "id": "Zv-8vfVU27fV",
        "outputId": "cc3e2d51-c8fc-4106-d56d-9e8ba79e4228"
      },
      "execution_count": null,
      "outputs": [
        {
          "output_type": "stream",
          "name": "stdout",
          "text": [
            "Enter a word: Nidhi\n",
            "Number of vowels in 'Nidhi': 2\n"
          ]
        }
      ]
    },
    {
      "cell_type": "markdown",
      "source": [
        "#### 10. Count Divisible Numbers\n"
      ],
      "metadata": {
        "id": "7fYbjIJN6Qe0"
      }
    },
    {
      "cell_type": "code",
      "source": [
        "N = int(input(\"Enter the range limit (N): \"))  # Take inputs\n",
        "D = int(input(\"Enter the divisor (D): \"))\n",
        "\n",
        "# Counter for numbers divisible by D\n",
        "Divisible = 0\n",
        "\n",
        "# Loop through numbers from 1 to N\n",
        "for i in range(1, N + 1):\n",
        "    if i % D == 0:\n",
        "        Divisible += 1\n",
        "\n",
        "# Display the result\n",
        "print(\"Count of numbers divisible by 5:\",Divisible)\n"
      ],
      "metadata": {
        "colab": {
          "base_uri": "https://localhost:8080/"
        },
        "id": "wt_-NQoo3beP",
        "outputId": "1b7459bc-2b3c-4417-9454-ddf44d05d37e"
      },
      "execution_count": null,
      "outputs": [
        {
          "output_type": "stream",
          "name": "stdout",
          "text": [
            "Enter the range limit (N): 50\n",
            "Enter the divisor (D): 5\n",
            "Count of numbers divisible by 5: 10\n"
          ]
        }
      ]
    }
  ]
}